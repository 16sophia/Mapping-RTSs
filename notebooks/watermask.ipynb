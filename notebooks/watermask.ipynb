{
 "cells": [
  {
   "cell_type": "markdown",
   "metadata": {},
   "source": [
    "### Move watermask into local folder, prepaire for merge"
   ]
  },
  {
   "cell_type": "code",
   "execution_count": null,
   "metadata": {},
   "outputs": [],
   "source": [
    "# Move Peel watermask\n",
    "import shutil\n",
    "dir_water = r\"Z:\\Kathrin\\dem_processing\\watermasks\\tiled_watermasks\"\n",
    "peel_target = r\"C:\\Users\\sophi\\Documents\\thesis\\renku_clone\\master-thesis\\data\\Sophia\\data_clean\\watermask_Peel_original\""
   ]
  },
  {
   "cell_type": "code",
   "execution_count": null,
   "metadata": {},
   "outputs": [],
   "source": [
    "path_peel= r'C:\\Users\\sophi\\Documents\\thesis\\renku_clone\\master-thesis\\data\\Sophia\\data_clean\\tile_shapes_peel.json'\n",
    "peel_tile = gpd.read_file(path_peel)['tile_name'].tolist()\n"
   ]
  },
  {
   "cell_type": "code",
   "execution_count": null,
   "metadata": {},
   "outputs": [],
   "source": [
    "# Move Tukto watermask\n",
    "import shutil\n",
    "dir_water = r\"Z:\\Kathrin\\dem_processing\\watermasks\\tiled_watermasks\"\n",
    "tukto_dir = r\"C:\\Users\\sophi\\Documents\\thesis\\renku_clone\\master-thesis\\data\\Sophia\\data_clean\\data_test_tuktoyaktuk\\images\"\n",
    "tukto_target = r\"C:\\Users\\sophi\\Documents\\thesis\\renku_clone\\master-thesis\\data\\Sophia\\data_clean\\watermask_tuktoyaktuk\"\n",
    "path_tukto = r'C:\\Users\\sophi\\Documents\\thesis\\renku_clone\\master-thesis\\data\\Sophia\\data_clean\\tile_shapes_tuktoyaktuk.json'\n",
    "tukto_tile = gpd.read_file(path_tukto)['tile_name'].tolist()"
   ]
  },
  {
   "cell_type": "code",
   "execution_count": null,
   "metadata": {},
   "outputs": [],
   "source": [
    "# Search in watertile\n",
    "for watertile in os.listdir(dir_water):\n",
    "    # Copy watertile to peeldir\n",
    "    if watertile in peel_tile:\n",
    "        img_name = os.listdir(os.path.join(dir_water,watertile))\n",
    "        for img in img_name:\n",
    "            img_path = os.path.join(dir_water, watertile, img)\n",
    "            shutil.copy(img_path, peel_target)\n",
    "    # Copy watertile to tuktodir                \n",
    "    # if watertile in tukto_tile:\n",
    "    #     img_name = os.listdir(os.path.join(dir_water,watertile))\n",
    "    #     for img in img_name:\n",
    "    #         img_path = os.path.join(dir_water, watertile, img)\n",
    "    #         shutil.copy(img_path, tukto_target)\n",
    "    #         print('moved Tukto', img_path)\n"
   ]
  },
  {
   "cell_type": "markdown",
   "metadata": {},
   "source": [
    "For empty images:"
   ]
  },
  {
   "cell_type": "code",
   "execution_count": null,
   "metadata": {},
   "outputs": [],
   "source": [
    "# Move Tukto watermask\n",
    "import shutil\n",
    "dir_water = r\"Z:\\Kathrin\\dem_processing\\watermasks\\tiled_watermasks\"\n",
    "tukto_dir = r\"C:\\Users\\sophi\\Documents\\thesis\\watermask\\images\"\n",
    "tukto_target = r\"C:\\Users\\sophi\\Documents\\thesis\\watermask\"\n",
    "path_tukto = r'C:\\Users\\sophi\\Documents\\thesis\\renku_clone\\master-thesis\\data\\Sophia\\data_clean\\tile_shapes_tuktoyaktuk.json'\n",
    "tukto_tile = gpd.read_file(path_tukto)['tile_name'].tolist()"
   ]
  },
  {
   "cell_type": "code",
   "execution_count": null,
   "metadata": {},
   "outputs": [],
   "source": [
    "tottile = os.listdir(r'C:\\Users\\sophi\\Documents\\thesis\\renku_clone\\master-thesis\\data\\Sophia\\data_clean\\data_test_tukto_negative\\images')\n",
    "tukto_tile = ['_'.join(file.split('_')[1:6]) for file in tottile]\n",
    "tukto_tile = list(set(tukto_tile))"
   ]
  },
  {
   "cell_type": "code",
   "execution_count": null,
   "metadata": {},
   "outputs": [],
   "source": [
    "# Search in watertile\n",
    "for watertile in os.listdir(dir_water):\n",
    "    # Copy watertile to peeldir\n",
    "    if watertile in peel_tile:\n",
    "        img_name = os.listdir(os.path.join(dir_water,watertile))\n",
    "        for img in img_name:\n",
    "            img_path = os.path.join(dir_water, watertile, img)\n",
    "            shutil.copy(img_path, peel_target)\n"
   ]
  },
  {
   "cell_type": "markdown",
   "metadata": {},
   "source": [
    "***\n",
    "### Merge water tiles that were split"
   ]
  },
  {
   "cell_type": "markdown",
   "metadata": {},
   "source": [
    "For tukto watermask:"
   ]
  },
  {
   "cell_type": "code",
   "execution_count": null,
   "metadata": {},
   "outputs": [],
   "source": [
    "# Merge split water mask. Most watermask end with _8. Some masks are split in _9 and _8, _10. Here we merge them together for further processing\n",
    "not_merged_dir = r'C:\\Users\\sophi\\Documents\\thesis\\renku_clone\\master-thesis\\data\\Sophia\\data_clean\\watermask_tuktoyaktuk_not_merged'\n",
    "source_dir = r'C:\\Users\\sophi\\Documents\\thesis\\renku_clone\\master-thesis\\data\\Sophia\\data_clean\\watermask_tuktoyaktuk'\n",
    "target_dir = r'C:\\Users\\sophi\\Documents\\thesis\\renku_clone\\master-thesis\\data\\Sophia\\data_clean\\watermask_tuktoyaktuk_merged'\n",
    "\n",
    "tobemerged = []\n",
    "not_merged = os.listdir(not_merged_dir)\n",
    "for tile_name in not_merged:\n",
    "    split_name = tile_name.split('_')\n",
    "    new_name = '_'.join(split_name[:5]) +'_8.tif'\n",
    "    tobemerged.append(new_name)"
   ]
  },
  {
   "cell_type": "code",
   "execution_count": null,
   "metadata": {},
   "outputs": [],
   "source": [
    "# Merge split water mask. Most watermask end with _8. Some masks are split in _9 and _8, _10. Here we merge them together for further processing\n",
    "not_merged_dir = r'C:\\Users\\sophi\\Documents\\thesis\\watermask\\not_merged'\n",
    "source_dir = r'C:\\Users\\sophi\\Documents\\thesis\\watermask\\images'\n",
    "target_dir = r'C:\\Users\\sophi\\Documents\\thesis\\watermask\\merged'\n",
    "\n",
    "tobemerged = []\n",
    "not_merged = os.listdir(not_merged_dir)\n",
    "for tile_name in not_merged:\n",
    "    split_name = tile_name.split('_')\n",
    "    new_name = '_'.join(split_name[:5]) +'_8.tif'\n",
    "    tobemerged.append(new_name)"
   ]
  },
  {
   "cell_type": "code",
   "execution_count": null,
   "metadata": {},
   "outputs": [],
   "source": [
    "from rasterio.merge import merge\n",
    "\n",
    "\n",
    "for i in range(len(not_merged)):\n",
    "    merge_img = []\n",
    "    # Get image path\n",
    "    not_merged_file = os.path.join(not_merged_dir, not_merged[i])\n",
    "    tobemerged_file = os.path.join(source_dir, tobemerged[i])\n",
    "\n",
    "    if os.path.exists(tobemerged_file):\n",
    "        # read image\n",
    "        not_merged_img = rasterio.open(not_merged_file)\n",
    "        tobemerged_img = rasterio.open(tobemerged_file)\n",
    "        merge_img.append(not_merged_img)\n",
    "        merge_img.append(tobemerged_img)\n",
    "        # merge\n",
    "        resolved_tile, resolved_transf = merge(merge_img)\n",
    "\n",
    "        # Write merged image\n",
    "        out_meta = not_merged_img.meta.copy()\n",
    "        out_meta.update({\"driver\": \"GTiff\",\n",
    "                            \"height\": resolved_tile.shape[1],\n",
    "                            \"width\": resolved_tile.shape[2],\n",
    "                            \"transform\": resolved_transf})\n",
    "\n",
    "        # Write the merged GeoTIFF to a new file\n",
    "        output_file = os.path.join(target_dir, tobemerged[i])\n",
    "        with rasterio.open(output_file, \"w\", **out_meta) as dest:\n",
    "            dest.write(resolved_tile)\n",
    "    else:\n",
    "        shutil.copy(not_merged_file, os.path.join(target_dir, tobemerged[i]))"
   ]
  },
  {
   "cell_type": "markdown",
   "metadata": {},
   "source": [
    "Same for Peel:"
   ]
  },
  {
   "cell_type": "code",
   "execution_count": null,
   "metadata": {},
   "outputs": [],
   "source": [
    "# Merge split water mask. Most watermask end with _9. Some masks are split in _9 and _8, _10. Here we merge them together for further processing\n",
    "not_merged_dir = r'C:\\Users\\sophi\\Documents\\thesis\\renku_clone\\master-thesis\\data\\Sophia\\data_clean\\watermask_Peel_not_merged'\n",
    "source_dir = r'C:\\Users\\sophi\\Documents\\thesis\\renku_clone\\master-thesis\\data\\Sophia\\data_clean\\watermask_Peel_original'\n",
    "target_dir = r'C:\\Users\\sophi\\Documents\\thesis\\renku_clone\\master-thesis\\data\\Sophia\\data_clean\\watermask_Peel_merged'\n",
    "\n",
    "tobemerged = []\n",
    "not_merged = os.listdir(not_merged_dir)\n",
    "for tile_name in not_merged:\n",
    "    split_name = tile_name.split('_')\n",
    "    new_name = '_'.join(split_name[:5]) +'_9.tif'\n",
    "    tobemerged.append(new_name)"
   ]
  },
  {
   "cell_type": "code",
   "execution_count": null,
   "metadata": {},
   "outputs": [],
   "source": [
    "from rasterio.merge import merge\n",
    "import shutil\n",
    "\n",
    "for i in range(len(not_merged)):\n",
    "    merge_img = []\n",
    "    # Get image path\n",
    "    not_merged_file = os.path.join(not_merged_dir, not_merged[i])\n",
    "    tobemerged_file = os.path.join(source_dir, tobemerged[i])\n",
    "\n",
    "    if os.path.exists(tobemerged_file):\n",
    "        # read image\n",
    "        not_merged_img = rasterio.open(not_merged_file)\n",
    "        tobemerged_img = rasterio.open(tobemerged_file)\n",
    "        merge_img.append(not_merged_img)\n",
    "        merge_img.append(tobemerged_img)\n",
    "        # merge\n",
    "        resolved_tile, resolved_transf = merge(merge_img)\n",
    "\n",
    "        # Write merged image\n",
    "        out_meta = not_merged_img.meta.copy()\n",
    "        out_meta.update({\"driver\": \"GTiff\",\n",
    "                            \"height\": resolved_tile.shape[1],\n",
    "                            \"width\": resolved_tile.shape[2],\n",
    "                            \"transform\": resolved_transf})\n",
    "\n",
    "        # Write the merged GeoTIFF to a new file\n",
    "        output_file = os.path.join(target_dir, tobemerged[i])\n",
    "        with rasterio.open(output_file, \"w\", **out_meta) as dest:\n",
    "            dest.write(resolved_tile)\n",
    "    else:\n",
    "        shutil.copy(not_merged_file, os.path.join(target_dir, tobemerged[i]))"
   ]
  },
  {
   "cell_type": "markdown",
   "metadata": {},
   "source": [
    "Rename files"
   ]
  },
  {
   "cell_type": "code",
   "execution_count": null,
   "metadata": {},
   "outputs": [],
   "source": [
    "# name_dir =  r'C:\\Users\\sophi\\Documents\\thesis\\renku_clone\\master-thesis\\data\\Sophia\\data_clean\\watermask_tuktoyaktuk_merged' #r'C:\\Users\\sophi\\Documents\\thesis\\renku_clone\\master-thesis\\data\\Sophia\\data_clean\\watermask_Peel_merged'\n",
    "name_dir =   r'C:\\Users\\sophi\\Documents\\thesis\\renku_clone\\master-thesis\\data\\Sophia\\data_clean\\watermask_Peel_merged'\n",
    "orig_name = os.listdir(name_dir)\n"
   ]
  },
  {
   "cell_type": "code",
   "execution_count": null,
   "metadata": {},
   "outputs": [],
   "source": [
    "for name in orig_name:\n",
    "    if name.endswith('tif'):\n",
    "        name_part = name.split('_')\n",
    "        new_name = '_'.join(name_part[:5]) +'.tif'\n",
    "        old_file = os.path.join(name_dir,name)\n",
    "        new_file = os.path.join(name_dir,new_name)\n",
    "        if os.path.exists(old_file):\n",
    "            os.rename(old_file, new_file)"
   ]
  },
  {
   "cell_type": "code",
   "execution_count": null,
   "metadata": {},
   "outputs": [],
   "source": [
    "for name in orig_name:\n",
    "    if name.endswith('tif.tif'):\n",
    "        new_name = name[:-4]\n",
    "        old_file = os.path.join(name_dir,name)\n",
    "        new_file = os.path.join(name_dir,new_name)\n",
    "        if os.path.exists(old_file):\n",
    "            os.rename(old_file, new_file)"
   ]
  },
  {
   "cell_type": "markdown",
   "metadata": {},
   "source": [
    "***\n",
    "### Merge neighbouring water mask"
   ]
  },
  {
   "cell_type": "code",
   "execution_count": null,
   "metadata": {},
   "outputs": [],
   "source": [
    "tile_name = 'tile_16_41_1_1' \n",
    "\n",
    "# Read image\n",
    "image_dir = r'C:\\Users\\sophi\\Documents\\thesis\\renku_clone\\master-thesis\\data\\Sophia\\data_clean\\2010_2021\\images'\n",
    "img_name = '2011-2021_tile_15_41_9_1_3_0.tif' #'2011-2021_tile_15_41_9_1_1_0.tif'\n",
    "image_file = os.path.join(image_dir, img_name)\n",
    "image_tile = rasterio.open(image_file)\n",
    "\n",
    "# Read water tiles and neighbour water tiles\n",
    "water_merge = []\n",
    "water_dir = r'C:\\Users\\sophi\\Documents\\thesis\\renku_clone\\master-thesis\\data\\Sophia\\data_clean\\watermask_Peel_merged'\n",
    "water_name = 'watermask_15_41_9_1.tif'\n",
    "water_file = os.path.join(water_dir, water_name)\n",
    "water_tile = rasterio.open(water_file)\n",
    "water_merge.append(water_tile)\n",
    "\n",
    "water_name_below = 'watermask_15_41_8_1.tif'\n",
    "water_file_below = os.path.join(water_dir, water_name_below)\n",
    "water_tile_below = rasterio.open(water_file_below)\n",
    "water_merge.append(water_tile_below)"
   ]
  },
  {
   "cell_type": "code",
   "execution_count": null,
   "metadata": {},
   "outputs": [
    {
     "data": {
      "text/plain": [
       "['tile', '16', '41', '1', '1']"
      ]
     },
     "metadata": {},
     "output_type": "display_data"
    }
   ],
   "source": [
    "original_tile = tile_name.split('_')\n",
    "original_tile"
   ]
  },
  {
   "cell_type": "code",
   "execution_count": null,
   "metadata": {},
   "outputs": [],
   "source": [
    "y1 = int(original_tile[3])\n",
    "x1 = int(original_tile[4])\n",
    "y2 = int(original_tile[1])\n",
    "x2 = int(original_tile[2])\n",
    "\n",
    "# below: y is lower\n",
    "if y1>2:\n",
    "    y1_low = str(y1-1)\n",
    "    y2_low = str(y2)\n",
    "    x1_low = str(x1)\n",
    "    x2_low = str(x2)\n",
    "else:\n",
    "    y1_low = str(10)\n",
    "    y2_low = str(y2-1)\n",
    "    x1_low = str(x1)\n",
    "    x2_low = str(x2)\n",
    "\n",
    "# above\n",
    "if y1<=9:\n",
    "    y1_above = str(y1+1)\n",
    "    y2_above = str(y2)\n",
    "    x1_above = str(x1)\n",
    "    x2_above = str(x2)\n",
    "else:\n",
    "    y1_above = str(1)\n",
    "    y2_above = str(y2+1)\n",
    "    x1_above = str(x1)\n",
    "    x2_above = str(x2)  \n",
    "\n",
    "# left: x is higher (for image not tile, it is the other way around)\n",
    "if x1<=9:\n",
    "    y1_left = str(y1)\n",
    "    y2_left = str(y2)\n",
    "    x1_left = str(x1+1)\n",
    "    x2_left = str(x2)\n",
    "else:\n",
    "    y1_left = str(y1)\n",
    "    y2_left = str(y2)\n",
    "    x1_left = str(1)\n",
    "    x2_left = str(x2+1)     \n",
    "\n",
    "# right:\n",
    "if x1>2:\n",
    "    y1_right = str(y1)\n",
    "    y2_right = str(y2)\n",
    "    x1_right = str(x1-1)\n",
    "    x2_right = str(x2)\n",
    "else:\n",
    "    y1_right = str(y1)\n",
    "    y2_right = str(y2)\n",
    "    x1_right = str(10)\n",
    "    x2_right = str(x2-1)  "
   ]
  },
  {
   "cell_type": "code",
   "execution_count": null,
   "metadata": {},
   "outputs": [
    {
     "data": {
      "text/plain": [
       "('tile_16_41_1_1',\n",
       " 'watermask_15_41_10_1.tif',\n",
       " 'watermask_16_41_2_1.tif',\n",
       " 'watermask_16_41_1_2.tif',\n",
       " 'watermask_16_40_1_10.tif')"
      ]
     },
     "metadata": {},
     "output_type": "display_data"
    }
   ],
   "source": [
    "water_name_below = '_'.join(['watermask',y2_low, x2_low, y1_low, x1_low]) + '.tif'\n",
    "water_name_above = '_'.join(['watermask',y2_above, x2_above, y1_above, x1_above]) + '.tif'\n",
    "water_name_left = '_'.join(['watermask',y2_left, x2_left, y1_left, x1_left]) + '.tif'\n",
    "water_name_right = '_'.join(['watermask',y2_right, x2_right, y1_right, x1_right]) + '.tif'\n",
    "tile_name, water_name_below,water_name_above,water_name_left,water_name_right"
   ]
  },
  {
   "cell_type": "code",
   "execution_count": null,
   "metadata": {},
   "outputs": [],
   "source": [
    "# merge neighbour water tiles\n",
    "from rasterio.merge import merge\n",
    "merged_water, merged_transf = merge(water_merge)"
   ]
  },
  {
   "cell_type": "code",
   "execution_count": null,
   "metadata": {},
   "outputs": [
    {
     "data": {
      "text/plain": [
       "<matplotlib.colorbar.Colorbar at 0x1b0a166be80>"
      ]
     },
     "metadata": {},
     "output_type": "display_data"
    },
    {
     "data": {
      "image/png": "[encoded data removed]",
      "text/plain": [
       "<Figure size 640x480 with 2 Axes>"
      ]
     },
     "metadata": {},
     "output_type": "display_data"
    }
   ],
   "source": [
    "# Make water tiles binary\n",
    "merged_water = merged_water[0]\n",
    "merged_water[merged_water>0]= 2\n",
    "merged_water[merged_water <= 0] = 1\n",
    "plt.imshow(merged_water)\n",
    "plt.colorbar()"
   ]
  },
  {
   "cell_type": "markdown",
   "metadata": {},
   "source": [
    "Extract water mask according to where the input image is"
   ]
  },
  {
   "cell_type": "code",
   "execution_count": null,
   "metadata": {},
   "outputs": [],
   "source": [
    "# Create a cropping mask with the boundary of input image\n",
    "mask_geometry = [shapely.geometry.box(*image_tile.bounds)]\n",
    "mask_array = geometry_mask(mask_geometry, out_shape=merged_water.shape, transform = merged_transf, invert=True)"
   ]
  },
  {
   "cell_type": "code",
   "execution_count": null,
   "metadata": {},
   "outputs": [
    {
     "data": {
      "text/plain": [
       "<matplotlib.colorbar.Colorbar at 0x2435c506fa0>"
      ]
     },
     "metadata": {},
     "output_type": "display_data"
    },
    {
     "data": {
      "image/png": "[encoded data removed]",
      "text/plain": [
       "<Figure size 640x480 with 2 Axes>"
      ]
     },
     "metadata": {},
     "output_type": "display_data"
    }
   ],
   "source": [
    "croped_water = merged_water*mask_array\n",
    "plt.imshow(croped_water)\n",
    "plt.colorbar()"
   ]
  },
  {
   "cell_type": "code",
   "execution_count": null,
   "metadata": {},
   "outputs": [],
   "source": [
    "# Find indices where the value is 1\n",
    "indices = np.where(croped_water >0)\n",
    "\n",
    "# Find the top-left, top-right, bottom-left, and bottom-right corners\n",
    "top_left = (min(indices[0]), min(indices[1]))\n",
    "bottom_right = (max(indices[0]), max(indices[1]))\n",
    "\n"
   ]
  },
  {
   "cell_type": "code",
   "execution_count": null,
   "metadata": {},
   "outputs": [],
   "source": [
    "extracted_water = croped_water[top_left[0]:bottom_right[0]+1, top_left[1]:bottom_right[1]+1]\n"
   ]
  },
  {
   "cell_type": "code",
   "execution_count": null,
   "metadata": {},
   "outputs": [
    {
     "data": {
      "text/plain": [
       "<matplotlib.image.AxesImage at 0x2435c3fbf10>"
      ]
     },
     "metadata": {},
     "output_type": "display_data"
    },
    {
     "data": {
      "image/png": "[encoded data removed]",
      "text/plain": [
       "<Figure size 640x480 with 1 Axes>"
      ]
     },
     "metadata": {},
     "output_type": "display_data"
    }
   ],
   "source": [
    "plt.imshow(extracted_water)"
   ]
  }
 ],
 "metadata": {
  "language_info": {
   "name": "python"
  }
 },
 "nbformat": 4,
 "nbformat_minor": 2
}
