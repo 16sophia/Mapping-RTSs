{
 "cells": [
  {
   "cell_type": "code",
   "execution_count": 1,
   "metadata": {},
   "outputs": [],
   "source": [
    "# Choose geoprocessing kernel\n",
    "import matplotlib.pyplot as plt\n",
    "import numpy as np\n",
    "import pandas as pd\n",
    "import geopandas as gpd\n",
    "import seaborn as sns\n",
    "\n",
    "import scipy\n",
    "import warnings\n",
    "import os\n",
    "import shapely\n",
    "import rasterio \n",
    "import pickle\n",
    "from rasterio.features import geometry_mask\n",
    "from PIL import Image"
   ]
  },
  {
   "cell_type": "code",
   "execution_count": 4,
   "metadata": {},
   "outputs": [],
   "source": [
    "# Datasets to be compared\n",
    "site_name = \"kolguev\" #\"Herschel, kolguev, tuktoyaktuk, taymyr, Peel. # Depends on the data name, csv produced with feature_calculation.ipynb \n",
    "\n",
    "name = \"Sophia\"\n",
    "lab1_name = 'labeler 1'\n",
    "name2 = \"Kathrin\"\n",
    "lab2_name = 'labeler 2'\n",
    "\n",
    "\n",
    "# name = \"Kathrin\"\n",
    "# lab1_name = 'labeler 2'\n",
    "# name2 = \"Philipp\"\n",
    "# lab2_name = 'labeler 3'\n",
    "\n",
    "\n",
    "# name = \"Sophia\"\n",
    "# lab1_name = 'labeler 1'\n",
    "# name2 = \"Philipp\"\n",
    "# lab2_name = 'labeler 3'\n",
    "\n",
    "\n"
   ]
  },
  {
   "cell_type": "code",
   "execution_count": 5,
   "metadata": {},
   "outputs": [],
   "source": [
    "# Read result from feature_calculation.ipynb\n",
    "if site_name == \"Peel\":\n",
    "    lab1 = pd.read_csv(f\"Aggregated_{name}.csv\")\n",
    "    lab2 = pd.read_csv(f\"Aggregated_{name2}.csv\")\n",
    "else:\n",
    "    lab1 = pd.read_csv(f\"{site_name}_{name}.csv\")\n",
    "    lab2 = pd.read_csv(f\"{site_name}_{name2}.csv\")\n",
    "if site_name == 'Peel' and name2 == \"Philipp\":\n",
    "    lab1 = lab1[lab1.year_end == 2016]"
   ]
  },
  {
   "cell_type": "code",
   "execution_count": 7,
   "metadata": {},
   "outputs": [
    {
     "name": "stdout",
     "output_type": "stream",
     "text": [
      "[2010] [2016, 2018]\n"
     ]
    }
   ],
   "source": [
    "# Get start and end year of measurement\n",
    "start_ = list(set(list(np.unique(lab1['year_start'])) + list(np.unique(lab2['year_start']))))\n",
    "end_ = list(set(list(np.unique(lab1['year_end'])) + list(np.unique(lab2['year_end']))))\n",
    "print(start_, end_)"
   ]
  },
  {
   "cell_type": "code",
   "execution_count": 8,
   "metadata": {},
   "outputs": [
    {
     "name": "stdout",
     "output_type": "stream",
     "text": [
      "Changed year from str to int in Sophia\n",
      "Changed year from str to int in Kathrin\n"
     ]
    }
   ],
   "source": [
    "# Set path to data\n",
    "local_folder = os.getcwd()\n",
    "file_folder = r'C:\\Users\\sophi\\Documents\\thesis\\code\\comparing labels\\labeled_data'  # UNC path\n",
    "polygons_1 = gpd.read_file(os.path.join(local_folder, file_folder, f\"{site_name}_{name}.geojson\"))\n",
    "polygons_2 = gpd.read_file(os.path.join(local_folder, file_folder, f\"{site_name}_{name2}.geojson\"))\n",
    "\n",
    "# Make sure start and end year is in int format\n",
    "#if name in [\"Philipp\", \"Kathrin\"]:\n",
    "polygons_1['year_start'] = polygons_1['year_start'].astype(int)\n",
    "polygons_1['year_end'] = polygons_1['year_end'].astype(int)\n",
    "print(f\"Changed year from str to int in {name}\")\n",
    "#if name2 in [\"Philipp\", \"Kathrin\"]:\n",
    "polygons_2['year_start'] = polygons_2['year_start'].astype(int)\n",
    "polygons_2['year_end'] = polygons_2['year_end'].astype(int)\n",
    "print(f\"Changed year from str to int in {name2}\")"
   ]
  },
  {
   "cell_type": "code",
   "execution_count": 9,
   "metadata": {},
   "outputs": [],
   "source": [
    "if site_name == 'Peel' and name2 == \"Philipp\":\n",
    "    polygons_1 = polygons_1[polygons_1.year_end == 2016]"
   ]
  },
  {
   "cell_type": "code",
   "execution_count": 10,
   "metadata": {},
   "outputs": [],
   "source": [
    "# make sure columnname is correctly defined as tile_name\n",
    "if site_name == 'tuktoyaktuk':\n",
    "    polygons_1.rename(columns={'tile_range': 'tile_name'}, inplace=True)\n",
    "    polygons_2.rename(columns={'tile_range': 'tile_name'}, inplace=True)"
   ]
  },
  {
   "cell_type": "code",
   "execution_count": 11,
   "metadata": {},
   "outputs": [
    {
     "name": "stdout",
     "output_type": "stream",
     "text": [
      "0 RTS appear more than once in df (Because it overlaps multiple tiles). Each id is a unique RTS, we have 56 unique RTS and in total 56 RTS for labeler 1\n",
      "0 RTS appear more than once in df (Because it overlaps multiple tiles). Each id is a unique RTS, we have 48 unique RTS and in total 48 RTS for labeler 1\n"
     ]
    }
   ],
   "source": [
    "# For IoU it is not important if there are multiple DEM images per RTS -> remove rows where RTS id is not unique\n",
    "# In dataset, id is for each delineated RTS. If RTS is on two tiles, it is saved twice, each with one tile name. This redundancy needs to be thrown away for iou calculation \n",
    "dataset1 = polygons_1[~polygons_1['id'].duplicated(keep='first')]\n",
    "dataset2 = polygons_2[~polygons_2['id'].duplicated(keep='first')]\n",
    "\n",
    "# Check number of duplicates and unique RTS\n",
    "unique = polygons_1[\"id\"].drop_duplicates(keep=False)\n",
    "boolean_unique = polygons_1[\"id\"].isin(unique)\n",
    "non_unique = polygons_1[\"id\"][~boolean_unique]\n",
    "\n",
    "unique2 = polygons_2[\"id\"].drop_duplicates(keep=False)\n",
    "boolean_unique2 = polygons_2[\"id\"].isin(unique2)\n",
    "non_unique2 = polygons_2[\"id\"][~boolean_unique2]\n",
    "print(f\"{len(np.unique(non_unique))} RTS appear more than once in df (Because it overlaps multiple tiles). Each id is a unique RTS, we have {len(unique)} unique RTS and in total {len(np.unique(polygons_1.id))} RTS for labeler 1\")\n",
    "print(f\"{len(np.unique(non_unique2))} RTS appear more than once in df (Because it overlaps multiple tiles). Each id is a unique RTS, we have {len(unique2)} unique RTS and in total {len(np.unique(polygons_2.id))} RTS for labeler 1\")\n",
    "\n",
    "polygons_1 = dataset1\n",
    "polygons_2 = dataset2"
   ]
  },
  {
   "cell_type": "code",
   "execution_count": 14,
   "metadata": {},
   "outputs": [],
   "source": [
    "# get tile names\n",
    "if site_name == 'Peel':\n",
    "    with open(os.path.join(os.getcwd(), 'tile_name.pkl'), 'rb') as file:\n",
    "        tile_name = pickle.load(file)\n",
    "else:\n",
    "    # Get union of both lists\n",
    "    tile_name = set(polygons_1.tile_name.tolist()) | set(polygons_1.tile_name.tolist())"
   ]
  },
  {
   "cell_type": "code",
   "execution_count": 15,
   "metadata": {},
   "outputs": [],
   "source": [
    "# Build iou_values df (initialized with twice the size of polygons_1)\n",
    "iou_col_name = ['polygon1_id', 'polygon2_id', 'IoU']\n",
    "iou_values = pd.DataFrame(None,  index=range(len(polygons_1)*2), columns=iou_col_name)"
   ]
  },
  {
   "cell_type": "code",
   "execution_count": 16,
   "metadata": {},
   "outputs": [],
   "source": [
    "# Fill iou_values\n",
    "n_RTS_pair_count = 0 \n",
    "# iterate through tiles: We only want to extract IoU if RTS is in same tile. ------------------------------------------------------------------------\n",
    "for tile in tile_name:\n",
    "\n",
    "    # All possible start / end date\n",
    "    year_start = start_\n",
    "    year_end = end_\n",
    "\n",
    "    # Extract sub_df according to tilename\n",
    "    sub_polygons_image1 = polygons_1[polygons_1[\"tile_name\"] ==  tile]\n",
    "    sub_polygons_image2 = polygons_2[polygons_2[\"tile_name\"] ==  tile]\n",
    "\n",
    "    # iterate through all combination of years------------------------------------------------------------------------\n",
    "    # Makes sure that all tiles are read, create sub df based on chosen start and end year\n",
    "    for start in year_start:\n",
    "        for end in year_end:\n",
    "            sub_polygons1 = sub_polygons_image1[(sub_polygons_image1[\"year_start\"] == start) & (sub_polygons_image1[\"year_end\"] == end)]\n",
    "            sub_polygons2 = sub_polygons_image2[(sub_polygons_image2[\"year_start\"] == start) & (sub_polygons_image2[\"year_end\"] == end)]\n",
    "\n",
    "            # Only read image if there is at least one RTS in image to avoid unnecessary tasks\n",
    "            if len(sub_polygons1)>0 and len(sub_polygons2)>0:\n",
    "\n",
    "                # Iterate through each pair of polygons from the sub df (Where tilename and start/end year match) and calculate intersection\n",
    "                for idx1, row1 in sub_polygons1.iterrows():\n",
    "                    for idx2, row2 in sub_polygons2.iterrows():\n",
    "                        if row1[\"tile_name\"] == row2[\"tile_name\"]: # redundant check\n",
    "                            intersection = gpd.overlay(gpd.GeoDataFrame(geometry=[row1['geometry']]),\n",
    "                                                    gpd.GeoDataFrame(geometry=[row2['geometry']]),\n",
    "                                                    how='intersection')\n",
    "\n",
    "                            # only append if intersection is not empty, fill values (polygon1 id, polygon2 id) into df\n",
    "                            if not intersection.area.empty:\n",
    "                                # If initialized iou_values df was not big enough -> expand by 50 rows\n",
    "                                if n_RTS_pair_count > iou_values.shape[0]: \n",
    "                                    df_expand = pd.DataFrame(0, index=range(50), columns= iou_col_name)\n",
    "                                    iou_values = pd.concat([iou_values, df_expand])\n",
    "                                iou_values.at[n_RTS_pair_count, 'polygon1_id'] = row1['id']\n",
    "                                iou_values.at[n_RTS_pair_count, 'polygon2_id'] = row2['id']\n",
    "                                intersection_area = intersection.area[0]\n",
    "                                \n",
    "                                # Calculate union area\n",
    "                                union_area = row1['geometry'].union(row2['geometry']).area\n",
    "\n",
    "                                # Calculate IoU and fill it into df\n",
    "                                iou = intersection_area / union_area\n",
    "                                iou_values.at[n_RTS_pair_count, 'IoU'] = iou      \n",
    "                                n_RTS_pair_count+=1                         \n",
    "\n",
    "                           \n",
    "                            \n",
    "\n",
    "                                \n",
    "                                "
   ]
  },
  {
   "cell_type": "code",
   "execution_count": 17,
   "metadata": {},
   "outputs": [],
   "source": [
    "# Df was initialized with a \"random\" size -> might not be fully filled -> Drop unfilled rows\n",
    "iou_values = iou_values.iloc[:n_RTS_pair_count]\n",
    "iou_values.to_csv(f'{site_name}_{name}_{name2}_iou_raw.csv', index=True)"
   ]
  },
  {
   "cell_type": "code",
   "execution_count": 38,
   "metadata": {},
   "outputs": [],
   "source": [
    "# In order to compare labellers, we only want one IoU per RTS (e.g. if one RTS overlaps with two other RTS, we only want to look at the pair with the bigger IoU)\n",
    "# To match the most possible RTS between labellers we don't want to solely match RTS pairs with the biggest IoU. The goal is to match as many RTS as possible, so if choosing a pair with a lower IoU allows pair matching between an additional RTS pair, this combination is chose\n",
    "# Algorithm:\n",
    "'''\n",
    "Group according to RTS_id1 (first RTS in the RTS pair)\n",
    "Sort each group in descending order of IoU: On top of each group is the RTS pair with highest IoU\n",
    "Extract the RTS pairs with highest IoU. Now RTS_1 is unqiue. If RTS_2 is not unique --> RTS pair don't have a 1:1 relationship.  \n",
    "    While RTS_2 is not unique: \n",
    "     For each not unique RTS_2: all pairs with corresponding RTS_2. Replace the pair (with RTS_2_x) with lowest IoU --> by replacing RTS_2_x with the RTS that has the 2nd highest IoU with RTS_1_x\n",
    "    If pair (with RTS_2_x) with lowest IoU cannot be replaced (because RTS_1_x has no other match), we look into replacing RTS_2_y with 2nd lowest IoU --> by replacing RTS_2_y with the RTS that has the 2nd highest IoU with RTS_1_y\n",
    "    Continue\n",
    "'''\n",
    "# df iou_unique only keeps unique RTS pairs (1:1 relationship) First initialization contains pairs where RTS_1 has highest IoU\n",
    "iou_unique = iou_values.copy(deep=True)\n",
    "iou_sorted = iou_values.groupby('polygon1_id').apply(lambda x: x.sort_values(by='IoU', ascending=False)).reset_index(drop=True)\n",
    "iou_unique = iou_sorted.groupby('polygon1_id').first().reset_index()"
   ]
  },
  {
   "cell_type": "code",
   "execution_count": 39,
   "metadata": {},
   "outputs": [],
   "source": [
    "# Create dictionary to keep track of each RTS_id1 which x highest IoU it is currently keeping\n",
    "# p1_id = ID of RTS_1. All filled with 1, because we start by keeping the 1st highest IoU\n",
    "round = {p1_id: 1 for p1_id in iou_unique.polygon1_id}\n",
    "# Repeat until polygon2_id is unique (unitl 1:1 relationship is reached)\n",
    "while iou_unique['polygon2_id'].duplicated().any():\n",
    "    #print(iou_unique)\n",
    "    # Get all polygon2_id of RTS pair that are not unique in polygon2_id\n",
    "    non_unique_array = np.unique(iou_unique[iou_unique.duplicated('polygon2_id')]['polygon2_id'])\n",
    "\n",
    "    # For each not unique RTS_2:\n",
    "    for id2_replace in non_unique_array: \n",
    "        # Extract sub df with all pairs containing RTS_2. Sort according to IoU (ascending)\n",
    "        sub_non_unique = iou_unique[iou_unique[\"polygon2_id\"]== id2_replace]\n",
    "        sub_non_unique = sub_non_unique.sort_values(by=\"IoU\")\n",
    "\n",
    "        # Replace one RTS pair (RTS_1_a, RTS_2_a), starting from the one with smallest IoU\n",
    "            # Replace with pair (RTS_1_a, RTS_2_x) which has (round) biggest IoU of all IoU with RTS_1_a\n",
    "            # If (RTS_1_a, RTS_2_a) pair cannot be replaced because there is no other pair with RTS_1_a --> \n",
    "            # Try to replace RTS pair (RTS_1_b, RTS_2_a2) with (replace_row th) smallest IoU of all IoU with RTS_2_a. \n",
    "                # If no RTS pair can be replaced -> exclude RTS pair with smallest IoU (RTS_1_a, RTS_2_a)\n",
    "\n",
    "        replace_row = 0\n",
    "        while replace_row < len(sub_non_unique): # If row cannot be replaced because no corresponding polyogn1_id is available\n",
    "            id1_replace = sub_non_unique.iloc[replace_row][\"polygon1_id\"]\n",
    "            fill =  iou_sorted[iou_sorted[\"polygon1_id\"] == id1_replace]\n",
    "\n",
    "            if len(fill)>round[id1_replace]:\n",
    "                # replace\n",
    "                iou_unique[(iou_unique[\"polygon1_id\"]== id1_replace)& (iou_unique[\"polygon2_id\"]== id2_replace)] = fill.iloc[round[id1_replace]]\n",
    "                round[id1_replace] += 1\n",
    "                \n",
    "                break \n",
    "            else: \n",
    "                replace_row+=1\n",
    "        if replace_row == len(sub_non_unique): # no row was able to be replaced, exclude from unique df\n",
    "            sub_non_unique.iloc[0][\"polygon1_id\"]\n",
    "            iou_unique = iou_unique[~((iou_unique[\"polygon1_id\"]== id1_replace)&(iou_unique[\"polygon2_id\"]== id2_replace))]"
   ]
  },
  {
   "cell_type": "code",
   "execution_count": 205,
   "metadata": {},
   "outputs": [],
   "source": [
    "iou_unique.to_csv(f'{site_name}_{name}_{name2}_iou_paired.csv', index=True)"
   ]
  },
  {
   "cell_type": "markdown",
   "metadata": {},
   "source": [
    "### Get summary"
   ]
  },
  {
   "cell_type": "code",
   "execution_count": 155,
   "metadata": {},
   "outputs": [],
   "source": [
    "# Datasets to be compared\n",
    "site_name = \"Peel\" #\"Herschel\"\n",
    "\n",
    "name = \"Sophia\"\n",
    "lab1_name = 'labeler 1'\n",
    "name2 = \"Kathrin\"\n",
    "lab2_name = 'labeler 2'\n",
    "\n",
    "\n",
    "# name = \"Kathrin\"\n",
    "# lab1_name = 'labeler 2'\n",
    "# name2 = \"Philipp\"\n",
    "# lab2_name = 'labeler 3'\n",
    "\n",
    "\n",
    "# name = \"Sophia\"\n",
    "# lab1_name = 'labeler 1'\n",
    "# name2 = \"Philipp\"\n",
    "# lab2_name = 'labeler 3'\n",
    "\n",
    "\n"
   ]
  },
  {
   "cell_type": "code",
   "execution_count": 4,
   "metadata": {},
   "outputs": [],
   "source": [
    "if site_name == 'Peel':\n",
    "    iou_values = pd.read_csv(f\"{name}_{name2}_iou_raw.csv\")\n",
    "    iou_unique = pd.read_csv(f\"{name}_{name2}_iou_paired.csv\")\n",
    "else:\n",
    "    iou_unique = pd.read_csv(f\"{site_name}_{name}_{name2}_iou_paired.csv\")\n",
    "    iou_values = pd.read_csv(f\"{site_name}_{name}_{name2}_iou_raw.csv\")"
   ]
  },
  {
   "cell_type": "code",
   "execution_count": 41,
   "metadata": {},
   "outputs": [
    {
     "name": "stdout",
     "output_type": "stream",
     "text": [
      "46 Sophia Kathrin\n"
     ]
    }
   ],
   "source": [
    "print(len(iou_unique), name, name2)"
   ]
  },
  {
   "cell_type": "code",
   "execution_count": 42,
   "metadata": {},
   "outputs": [
    {
     "data": {
      "text/plain": [
       "0.69"
      ]
     },
     "execution_count": 42,
     "metadata": {},
     "output_type": "execute_result"
    }
   ],
   "source": [
    "np.round(iou_unique.IoU.mean(),2)"
   ]
  },
  {
   "cell_type": "code",
   "execution_count": 43,
   "metadata": {},
   "outputs": [
    {
     "data": {
      "text/plain": [
       "0.67"
      ]
     },
     "execution_count": 43,
     "metadata": {},
     "output_type": "execute_result"
    }
   ],
   "source": [
    "np.round(iou_values.IoU.mean(),2)"
   ]
  },
  {
   "cell_type": "code",
   "execution_count": 44,
   "metadata": {},
   "outputs": [
    {
     "name": "stdout",
     "output_type": "stream",
     "text": [
      "Total IoU pairs: 52\n",
      "Total L1: 56\n",
      "Total L2: 48\n"
     ]
    }
   ],
   "source": [
    "print('Total IoU pairs:', len(iou_values))\n",
    "print('Total L1:',len(dataset1))\n",
    "print('Total L2:',len(dataset2))"
   ]
  },
  {
   "cell_type": "code",
   "execution_count": 45,
   "metadata": {},
   "outputs": [
    {
     "name": "stdout",
     "output_type": "stream",
     "text": [
      "No intersection L1: 4\n",
      "No intersection L2 2\n",
      "total 6\n"
     ]
    }
   ],
   "source": [
    "\n",
    "# Find RTS instances that have no pair -> set IoU to 0\n",
    "id1_missing = np.unique(dataset1[~dataset1[\"id\"].isin(iou_values[\"polygon1_id\"])][\"id\"])\n",
    "id2_missing = np.unique(dataset2[~dataset2[\"id\"].isin(iou_values[\"polygon2_id\"])][\"id\"])\n",
    "print('No intersection L1:', len(id1_missing))\n",
    "print('No intersection L2', len(id2_missing))\n",
    "print('total',  len(id1_missing) + len(id2_missing))"
   ]
  },
  {
   "cell_type": "code",
   "execution_count": 46,
   "metadata": {},
   "outputs": [],
   "source": [
    "# Only keep RTS within site\n",
    "polygons_1_clean = polygons_1#[polygons_1.tile_name.notna()]\n",
    "polygons_2_clean = polygons_2#[polygons_2.tile_name.notna()]\n"
   ]
  },
  {
   "cell_type": "code",
   "execution_count": 47,
   "metadata": {},
   "outputs": [
    {
     "name": "stdout",
     "output_type": "stream",
     "text": [
      "1:1 matched: 46\n",
      "Unmatched L1 6\n",
      "Unmatched L2 0\n",
      "total 6\n"
     ]
    }
   ],
   "source": [
    "print('1:1 matched:', len(iou_unique))\n",
    "\n",
    "# Find RTS instances that have no pair -> set IoU to 0\n",
    "id1_missing = np.unique(iou_values[~iou_values[\"polygon1_id\"].isin(iou_unique[\"polygon1_id\"])][\"polygon1_id\"])\n",
    "id2_missing = np.unique(iou_values[~iou_values[\"polygon2_id\"].isin(iou_unique[\"polygon2_id\"])][\"polygon2_id\"])\n",
    "print('Unmatched L1', len(id1_missing))\n",
    "print('Unmatched L2', len(id2_missing))\n",
    "print('total',len(id1_missing) + len(id2_missing))"
   ]
  },
  {
   "cell_type": "code",
   "execution_count": 48,
   "metadata": {},
   "outputs": [
    {
     "name": "stdout",
     "output_type": "stream",
     "text": [
      "TP: 38\n",
      "FP: 8\n"
     ]
    }
   ],
   "source": [
    "# N RTS match\n",
    "print('TP:', sum(iou_unique['IoU']>=0.5))\n",
    "print('FP:', sum(iou_unique['IoU']<0.5))"
   ]
  },
  {
   "cell_type": "code",
   "execution_count": 213,
   "metadata": {},
   "outputs": [
    {
     "data": {
      "image/png": "[encoded data removed]",
      "text/plain": [
       "<Figure size 640x480 with 1 Axes>"
      ]
     },
     "metadata": {},
     "output_type": "display_data"
    }
   ],
   "source": [
    "plt.hist(iou_unique[\"IoU\"], color='lightgrey', edgecolor='black', bins=20)\n",
    "plt.xlabel('Intersection over Union')\n",
    "plt.ylabel('Occurrences')\n",
    "plt.title(f'IoU of 1:1 RTS pairs from {lab1_name} and {lab2_name}')\n",
    "\n",
    "plt.savefig(f'{site_name}_1_1_IoU_{lab1_name}_{lab2_name}.png', format='png', dpi=300)\n",
    "# plt.savefig('1_1_IoU_lab2_lab3.svg', format='svg')\n",
    "plt.show()"
   ]
  },
  {
   "cell_type": "code",
   "execution_count": 294,
   "metadata": {},
   "outputs": [],
   "source": [
    "data1 = {\n",
    "    'polygon1_id': id1_missing,\n",
    "    'polygon2_id': [None] * len(id1_missing),\n",
    "    'IoU': [0] * len(id1_missing)\n",
    "}\n",
    "\n",
    "data2 = {\n",
    "    'polygon1_id': [None] * len(id2_missing),\n",
    "    'polygon2_id': id2_missing,\n",
    "    'IoU': [0] * len(id2_missing)\n",
    "}\n",
    "\n",
    "id1_df = pd.DataFrame(data1)\n",
    "\n",
    "id2_df = pd.DataFrame(data2)"
   ]
  },
  {
   "cell_type": "code",
   "execution_count": 111,
   "metadata": {},
   "outputs": [],
   "source": [
    "low_iou = iou_unique[iou_unique['IoU']< 0.5] #.drop('Unnamed: 0', axis=1)\n",
    "unmatched = pd.concat([id1_df, id2_df, low_iou])"
   ]
  },
  {
   "cell_type": "code",
   "execution_count": 112,
   "metadata": {},
   "outputs": [],
   "source": [
    "notfound = pd.concat([id1_df, id2_df])"
   ]
  },
  {
   "cell_type": "code",
   "execution_count": 123,
   "metadata": {},
   "outputs": [],
   "source": [
    "merged_df1 = iou_unique.merge(lab1.add_prefix('1_')[['1_id', '1_type', '1_geometry', '1_area', '1_perimeter', '1_circularity', '1_solidity', '1_diameter_max', '1_n_vertices', '1_norm_std', '1_norm_median','1_norm_mean']],\n",
    "                              left_on='polygon1_id', right_on='1_id', how='left')\n",
    "\n",
    "merged_df = merged_df1.merge(lab2.add_prefix('2_')[['2_id', '2_type', '2_geometry', '2_area', '2_perimeter', '2_circularity', '2_solidity', '2_diameter_max', '2_n_vertices', '2_norm_std', '2_norm_median','2_norm_mean']],\n",
    "                              left_on='polygon2_id', right_on='2_id', how='left')"
   ]
  },
  {
   "cell_type": "code",
   "execution_count": 124,
   "metadata": {},
   "outputs": [],
   "source": [
    "unmatched_merg1 = unmatched.merge(lab1.add_prefix('1_')[['1_id', '1_type', '1_geometry', '1_area', '1_perimeter', '1_circularity', '1_solidity',  '1_diameter_max', '1_n_vertices', '1_norm_std', '1_norm_median','1_norm_mean']],\n",
    "                              left_on='polygon1_id', right_on='1_id', how='left')\n",
    "unmatched_merged = unmatched_merg1.merge(lab2.add_prefix('2_')[['2_id', '2_type', '2_geometry', '2_area', '2_perimeter', '2_circularity', '2_solidity', '2_diameter_max', '2_n_vertices', '2_norm_std', '2_norm_median','2_norm_mean']],\n",
    "                              left_on='polygon2_id', right_on='2_id', how='left')"
   ]
  },
  {
   "cell_type": "code",
   "execution_count": 125,
   "metadata": {},
   "outputs": [],
   "source": [
    "notfound1 = notfound.merge(lab1.add_prefix('1_')[['1_id', '1_type', '1_geometry', '1_area', '1_perimeter', '1_circularity', '1_solidity',  '1_diameter_max', '1_n_vertices', '1_norm_std', '1_norm_median','1_norm_mean']],\n",
    "                              left_on='polygon1_id', right_on='1_id', how='left')\n",
    "notfound_ = notfound1.merge(lab2.add_prefix('2_')[['2_id', '2_type', '2_geometry', '2_area', '2_perimeter', '2_circularity', '2_solidity', '2_diameter_max', '2_n_vertices', '2_norm_std', '2_norm_median','2_norm_mean']],\n",
    "                              left_on='polygon2_id', right_on='2_id', how='left')\n"
   ]
  },
  {
   "cell_type": "code",
   "execution_count": 129,
   "metadata": {},
   "outputs": [
    {
     "data": {
      "text/html": [
       "<div>\n",
       "<style scoped>\n",
       "    .dataframe tbody tr th:only-of-type {\n",
       "        vertical-align: middle;\n",
       "    }\n",
       "\n",
       "    .dataframe tbody tr th {\n",
       "        vertical-align: top;\n",
       "    }\n",
       "\n",
       "    .dataframe thead th {\n",
       "        text-align: right;\n",
       "    }\n",
       "</style>\n",
       "<table border=\"1\" class=\"dataframe\">\n",
       "  <thead>\n",
       "    <tr style=\"text-align: right;\">\n",
       "      <th></th>\n",
       "      <th>0</th>\n",
       "    </tr>\n",
       "  </thead>\n",
       "  <tbody>\n",
       "    <tr>\n",
       "      <th>1_area</th>\n",
       "      <td>12825.80</td>\n",
       "    </tr>\n",
       "    <tr>\n",
       "      <th>1_perimeter</th>\n",
       "      <td>444.94</td>\n",
       "    </tr>\n",
       "    <tr>\n",
       "      <th>1_circularity</th>\n",
       "      <td>0.67</td>\n",
       "    </tr>\n",
       "    <tr>\n",
       "      <th>1_solidity</th>\n",
       "      <td>0.90</td>\n",
       "    </tr>\n",
       "    <tr>\n",
       "      <th>1_diameter_max</th>\n",
       "      <td>156.76</td>\n",
       "    </tr>\n",
       "    <tr>\n",
       "      <th>1_n_vertices</th>\n",
       "      <td>13.61</td>\n",
       "    </tr>\n",
       "    <tr>\n",
       "      <th>1_norm_std</th>\n",
       "      <td>0.68</td>\n",
       "    </tr>\n",
       "    <tr>\n",
       "      <th>1_norm_median</th>\n",
       "      <td>1.21</td>\n",
       "    </tr>\n",
       "    <tr>\n",
       "      <th>1_norm_mean</th>\n",
       "      <td>1.24</td>\n",
       "    </tr>\n",
       "    <tr>\n",
       "      <th>2_area</th>\n",
       "      <td>6727.84</td>\n",
       "    </tr>\n",
       "    <tr>\n",
       "      <th>2_perimeter</th>\n",
       "      <td>338.30</td>\n",
       "    </tr>\n",
       "    <tr>\n",
       "      <th>2_circularity</th>\n",
       "      <td>0.66</td>\n",
       "    </tr>\n",
       "    <tr>\n",
       "      <th>2_solidity</th>\n",
       "      <td>0.90</td>\n",
       "    </tr>\n",
       "    <tr>\n",
       "      <th>2_diameter_max</th>\n",
       "      <td>129.03</td>\n",
       "    </tr>\n",
       "    <tr>\n",
       "      <th>2_n_vertices</th>\n",
       "      <td>12.03</td>\n",
       "    </tr>\n",
       "    <tr>\n",
       "      <th>2_norm_std</th>\n",
       "      <td>0.63</td>\n",
       "    </tr>\n",
       "    <tr>\n",
       "      <th>2_norm_median</th>\n",
       "      <td>0.81</td>\n",
       "    </tr>\n",
       "    <tr>\n",
       "      <th>2_norm_mean</th>\n",
       "      <td>0.81</td>\n",
       "    </tr>\n",
       "  </tbody>\n",
       "</table>\n",
       "</div>"
      ],
      "text/plain": [
       "                       0\n",
       "1_area          12825.80\n",
       "1_perimeter       444.94\n",
       "1_circularity       0.67\n",
       "1_solidity          0.90\n",
       "1_diameter_max    156.76\n",
       "1_n_vertices       13.61\n",
       "1_norm_std          0.68\n",
       "1_norm_median       1.21\n",
       "1_norm_mean         1.24\n",
       "2_area           6727.84\n",
       "2_perimeter       338.30\n",
       "2_circularity       0.66\n",
       "2_solidity          0.90\n",
       "2_diameter_max    129.03\n",
       "2_n_vertices       12.03\n",
       "2_norm_std          0.63\n",
       "2_norm_median       0.81\n",
       "2_norm_mean         0.81"
      ]
     },
     "execution_count": 129,
     "metadata": {},
     "output_type": "execute_result"
    }
   ],
   "source": [
    "# Features of unmatched\n",
    "feature_unmatch = unmatched_merged[['1_area', '1_perimeter', '1_circularity', '1_solidity', '1_diameter_max', '1_n_vertices', '1_norm_std', '1_norm_median','1_norm_mean', '2_area', '2_perimeter', '2_circularity', '2_solidity', '2_diameter_max', '2_n_vertices', '2_norm_std', '2_norm_median','2_norm_mean']].mean().round(2)\n",
    "unmatched_ = pd.DataFrame(feature_unmatch)\n",
    "unmatched_"
   ]
  },
  {
   "cell_type": "code",
   "execution_count": 130,
   "metadata": {},
   "outputs": [
    {
     "data": {
      "text/html": [
       "<div>\n",
       "<style scoped>\n",
       "    .dataframe tbody tr th:only-of-type {\n",
       "        vertical-align: middle;\n",
       "    }\n",
       "\n",
       "    .dataframe tbody tr th {\n",
       "        vertical-align: top;\n",
       "    }\n",
       "\n",
       "    .dataframe thead th {\n",
       "        text-align: right;\n",
       "    }\n",
       "</style>\n",
       "<table border=\"1\" class=\"dataframe\">\n",
       "  <thead>\n",
       "    <tr style=\"text-align: right;\">\n",
       "      <th></th>\n",
       "      <th>0</th>\n",
       "    </tr>\n",
       "  </thead>\n",
       "  <tbody>\n",
       "    <tr>\n",
       "      <th>1_area</th>\n",
       "      <td>13308.06</td>\n",
       "    </tr>\n",
       "    <tr>\n",
       "      <th>1_perimeter</th>\n",
       "      <td>502.75</td>\n",
       "    </tr>\n",
       "    <tr>\n",
       "      <th>1_circularity</th>\n",
       "      <td>0.63</td>\n",
       "    </tr>\n",
       "    <tr>\n",
       "      <th>1_solidity</th>\n",
       "      <td>0.86</td>\n",
       "    </tr>\n",
       "    <tr>\n",
       "      <th>1_diameter_max</th>\n",
       "      <td>175.58</td>\n",
       "    </tr>\n",
       "    <tr>\n",
       "      <th>1_n_vertices</th>\n",
       "      <td>15.38</td>\n",
       "    </tr>\n",
       "    <tr>\n",
       "      <th>1_norm_std</th>\n",
       "      <td>0.64</td>\n",
       "    </tr>\n",
       "    <tr>\n",
       "      <th>1_norm_median</th>\n",
       "      <td>1.17</td>\n",
       "    </tr>\n",
       "    <tr>\n",
       "      <th>1_norm_mean</th>\n",
       "      <td>1.18</td>\n",
       "    </tr>\n",
       "    <tr>\n",
       "      <th>2_area</th>\n",
       "      <td>13603.29</td>\n",
       "    </tr>\n",
       "    <tr>\n",
       "      <th>2_perimeter</th>\n",
       "      <td>500.23</td>\n",
       "    </tr>\n",
       "    <tr>\n",
       "      <th>2_circularity</th>\n",
       "      <td>0.65</td>\n",
       "    </tr>\n",
       "    <tr>\n",
       "      <th>2_solidity</th>\n",
       "      <td>0.87</td>\n",
       "    </tr>\n",
       "    <tr>\n",
       "      <th>2_diameter_max</th>\n",
       "      <td>177.60</td>\n",
       "    </tr>\n",
       "    <tr>\n",
       "      <th>2_n_vertices</th>\n",
       "      <td>15.81</td>\n",
       "    </tr>\n",
       "    <tr>\n",
       "      <th>2_norm_std</th>\n",
       "      <td>0.69</td>\n",
       "    </tr>\n",
       "    <tr>\n",
       "      <th>2_norm_median</th>\n",
       "      <td>1.11</td>\n",
       "    </tr>\n",
       "    <tr>\n",
       "      <th>2_norm_mean</th>\n",
       "      <td>1.10</td>\n",
       "    </tr>\n",
       "  </tbody>\n",
       "</table>\n",
       "</div>"
      ],
      "text/plain": [
       "                       0\n",
       "1_area          13308.06\n",
       "1_perimeter       502.75\n",
       "1_circularity       0.63\n",
       "1_solidity          0.86\n",
       "1_diameter_max    175.58\n",
       "1_n_vertices       15.38\n",
       "1_norm_std          0.64\n",
       "1_norm_median       1.17\n",
       "1_norm_mean         1.18\n",
       "2_area          13603.29\n",
       "2_perimeter       500.23\n",
       "2_circularity       0.65\n",
       "2_solidity          0.87\n",
       "2_diameter_max    177.60\n",
       "2_n_vertices       15.81\n",
       "2_norm_std          0.69\n",
       "2_norm_median       1.11\n",
       "2_norm_mean         1.10"
      ]
     },
     "execution_count": 130,
     "metadata": {},
     "output_type": "execute_result"
    }
   ],
   "source": [
    "# features of matched\n",
    "matched_df = merged_df[merged_df['IoU']>=0.5]\n",
    "a = matched_df[['1_area', '1_perimeter', '1_circularity', '1_solidity', '1_diameter_max', '1_n_vertices', '1_norm_std', '1_norm_median','1_norm_mean', '2_area', '2_perimeter', '2_circularity', '2_solidity', '2_diameter_max', '2_n_vertices', '2_norm_std', '2_norm_median','2_norm_mean']].mean().round(2)\n",
    "matched_ = pd.DataFrame(a)\n",
    "matched_"
   ]
  },
  {
   "cell_type": "markdown",
   "metadata": {},
   "source": [
    "### Calculate accuracy score ect."
   ]
  },
  {
   "cell_type": "code",
   "execution_count": 7,
   "metadata": {},
   "outputs": [],
   "source": [
    "iou_tot = pd.read_csv(\"Kathrin_Philipp_iou_raw.csv\")\n",
    "\n",
    "# Get pair with max Iou\n",
    "iou_tot_sorted = iou_tot.groupby('polygon1_id').apply(lambda x: x.sort_values(by='IoU', ascending=False)).reset_index(drop=True)\n",
    "iou_tot_max = iou_tot_sorted.groupby('polygon1_id').first().reset_index()"
   ]
  },
  {
   "cell_type": "code",
   "execution_count": 13,
   "metadata": {},
   "outputs": [],
   "source": [
    "IoU_thresh = 0.5\n",
    "# Unmatched id 1 if  iou < thresh--------\n",
    "boolean_iou = iou_tot_max[\"IoU\"] >= IoU_thresh\n",
    "id1_matched = np.unique(iou_tot_max['polygon1_id'][boolean_iou])\n",
    "id1_unmatched_iou = np.unique(iou_tot_max['polygon1_id'][~boolean_iou])\n",
    "\n",
    "# unmatched id2 if iou < thresh\n",
    "id2_unmatched_iou = np.unique(iou_tot_max['polygon2_id'][~boolean_iou])\n",
    "\n",
    "# unmatched id1 if not in iou -----------\n",
    "boolean_in_iou = np.isin(dataset1['id'].values, iou_tot_max['polygon1_id'].values)\n",
    "id1_unmatched2 = dataset1['id'][~boolean_in_iou]\n",
    "\n",
    "# unmatched id2 if not in iou \n",
    "boolean_id2in_iou = np.isin(dataset2['id'].values, iou_tot_max['polygon2_id'].values)\n",
    "id2_unmatched2 = dataset2['id'][~boolean_id2in_iou]\n",
    "\n",
    "id1_unmatched = np.concatenate((id1_unmatched_iou, id1_unmatched2))\n",
    "id2_unmatched = np.concatenate((id2_unmatched_iou, id2_unmatched2))\n",
    "\n",
    "TP_ = len(boolean_iou)\n",
    "FP_ = len(id1_unmatched)\n",
    "FN_ = len(id2_unmatched)\n",
    "accuracy_special = TP_/(TP_+FP_+FN_)\n",
    "precision = TP_ / (TP_ + FP_)\n",
    "recall = TP_ / (TP_ + FN_)\n"
   ]
  },
  {
   "cell_type": "code",
   "execution_count": 14,
   "metadata": {},
   "outputs": [
    {
     "data": {
      "text/plain": [
       "(0.2504145936981758, 0.2707710699342499, 0.769100169779287)"
      ]
     },
     "execution_count": 14,
     "metadata": {},
     "output_type": "execute_result"
    }
   ],
   "source": [
    "accuracy_special, precision, recall"
   ]
  }
 ],
 "metadata": {
  "kernelspec": {
   "display_name": "geoprocessing",
   "language": "python",
   "name": "python3"
  },
  "language_info": {
   "codemirror_mode": {
    "name": "ipython",
    "version": 3
   },
   "file_extension": ".py",
   "mimetype": "text/x-python",
   "name": "python",
   "nbconvert_exporter": "python",
   "pygments_lexer": "ipython3",
   "version": "3.9.18"
  }
 },
 "nbformat": 4,
 "nbformat_minor": 2
}
